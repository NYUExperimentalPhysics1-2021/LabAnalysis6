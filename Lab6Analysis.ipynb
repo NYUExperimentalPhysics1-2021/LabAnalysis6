{
  "nbformat": 4,
  "nbformat_minor": 0,
  "metadata": {
    "colab": {
      "name": "Lab6Analysis.ipynb",
      "provenance": [],
      "collapsed_sections": [],
      "mount_file_id": "1dkHKQMAGhi4Nk_dA8e8OxQgMtfFH8PhP",
      "authorship_tag": "ABX9TyO638uBflgQUsZBJ6KcjTvY",
      "include_colab_link": true
    },
    "kernelspec": {
      "display_name": "Python 3",
      "name": "python3"
    },
    "language_info": {
      "name": "python"
    }
  },
  "cells": [
    {
      "cell_type": "markdown",
      "metadata": {
        "id": "view-in-github",
        "colab_type": "text"
      },
      "source": [
        "<a href=\"https://colab.research.google.com/github/NYUExperimentalPhysics1-2021/LabAnalysis6/blob/main/Lab6Analysis.ipynb\" target=\"_parent\"><img src=\"https://colab.research.google.com/assets/colab-badge.svg\" alt=\"Open In Colab\"/></a>"
      ]
    },
    {
      "cell_type": "code",
      "metadata": {
        "id": "HRiBMPFEl96u",
        "cellView": "form"
      },
      "source": [
        "#@title $\\gets$ Run Me First (I have the code setup and function definitions)\n",
        "\n",
        "\n",
        "import numpy as np\n",
        "import matplotlib.pyplot as plt\n",
        "import scipy.optimize\n",
        "from bisect import bisect_left, bisect_right\n",
        "import os, glob\n",
        "import itertools,operator\n",
        "from timeit import default_timer as timer\n",
        "from enum import Enum\n",
        "import json\n",
        "from sklearn import linear_model, datasets\n",
        "from scipy import signal\n",
        "import scipy.stats\n",
        "\n",
        "gaccel = 9.802\n",
        "deghr = np.rad2deg(3600)\n",
        "\n",
        "plt.rcParams['figure.figsize'] = [8, 5]\n",
        "\n",
        "class emptystruct:\n",
        "  pass\n",
        "\n",
        "def findAngleFiles (startdir):\n",
        "  #(angleFiles,magFiles) = findSlopeAndAmplitudeFiles(startdir)\n",
        "  # input stardir: path to directory containing experiments\n",
        "  # output: list of paths to angle files\n",
        "  # output slopeFiles: dictionary with paths to slope files, key names are taken from directories under large bob\n",
        "  #   e.g. if large bob has a directory 2mm, then\n",
        "  #   slopeFiles[\"2mm\"] is a list of paths to all slope files (end _slope.txt) \n",
        "  #   under this directory, even in subdirectories\n",
        "  # output amplitudeFiles: same as slopeFiles, but paths to all files ending _angle.txt\n",
        "  #https://stackoverflow.com/questions/3964681/find-all-files-in-a-directory-with-extension-txt-in-python\n",
        "  #https://www.kite.com/python/answers/how-to-search-for-specific-files-in-subdirectories-in-python\n",
        "    #look 1,2, and 3 levels down\n",
        "    return sorted (glob.glob(startdir + '/**/**/*_angle.txt') + glob.glob(startdir + '/**/*_angle.txt') + glob.glob(startdir + '/**/**/**/*_angle.txt') )\n",
        "def rreplace(s, old, new, occurrence):\n",
        "  #replace last instance https://stackoverflow.com/questions/2556108/rreplace-how-to-replace-the-last-occurrence-of-an-expression-in-a-string/59082116#59082116\n",
        "  li = s.rsplit(old, occurrence)\n",
        "  return new.join(li)\n",
        "\n",
        "# needed to check data validity\n",
        "# returns the indices of the first and last element of the largest sequence of true in a list of booleans\n",
        "def longestTrueSequence(seq):\n",
        "  #adapted from https://stackoverflow.com/questions/40166522/find-longest-sequence-of-0s-in-the-integer-list\n",
        "  r = max((list(y) for (x,y) in itertools.groupby((enumerate(seq)),operator.itemgetter(1)) if x), key=len)\n",
        "  return (r[0][0], r[-1][0])\n",
        "\n",
        "# Checking data validity (no missed swings, dt reasonable)\n",
        "# returns longest sequence of valid data\n",
        "def timeCheck(time,number):\n",
        "  dt = np.diff(time)\n",
        "  period = np.median(dt)\n",
        "  dn = np.diff(number)%256 #number is mod 256\n",
        "  maxperiod = 5 #equivalent to 6 meter pendulum\n",
        "  valid = (np.abs(dt -period) < 0.25*period) & (dn<=8)\n",
        "  (start,stop) = longestTrueSequence(valid)\n",
        "  return (start,stop)\n",
        "  \n",
        "\n",
        "def loadAndParseData (angleFilePath): #450k readings = 1500s\n",
        "  tcross, theta, majaxis, minaxis, number = np.loadtxt(angleFilePath, skiprows = 1, unpack = True)\n",
        "  dn = np.diff(number)\n",
        "  for i in range(len(dn)):\n",
        "    if dn[i] < 0:\n",
        "      number[i+1:] = number[i+1:] + 256\n",
        "  dt = np.gradient(tcross)\n",
        "  period = np.median(dt)\n",
        "  valid = np.isfinite(tcross) & np.isfinite(theta) & (majaxis > 0) & (np.abs(dt -period) < 0.25*period)\n",
        "  experiment = emptystruct()\n",
        "  experiment.anglePath = angleFilePath\n",
        "  experiment.t = tcross[valid]\n",
        "  experiment.theta = theta[valid]\n",
        "  experiment.number = number[valid]\n",
        "  return experiment\n",
        "\n",
        "\n",
        "def updateExperiments(startdir, experiments):\n",
        "  angleFiles = findAngleFiles(startdir)\n",
        "  for file in angleFiles:\n",
        "    found = False\n",
        "    for e in experiments:\n",
        "      if os.path.normpath(file) == os.path.normpath(e.anglePath):\n",
        "        found = True\n",
        "    if not(found):\n",
        "      print('loading: {}'.format(file))\n",
        "      e = loadAndParseData(file)\n",
        "      experiments.append(e)\n",
        "\n",
        "#(m,b,m_e,b_e) = fitLine(x,y)\n",
        "#least squares fit to y = m x + b : m_e,b_e are uncertainties in m,b\n",
        "def fitLine(x,y):\n",
        "  p = np.polyfit(x,y,1)\n",
        "  res = y - p[0]*x - p[1]\n",
        "  m_e = np.sqrt(np.var(res)/np.sum((x-np.mean(x))**2))\n",
        "  b_e = np.sqrt(np.mean(x**2))*m_e\n",
        "  return (p[0],p[1],m_e,b_e)\n",
        "  \n",
        "\n",
        "def fitLineHuber(x,y,epsilon=2):\n",
        "  huber = linear_model.HuberRegressor(epsilon=epsilon)\n",
        "  huber.fit(x.reshape(-1,1),y)\n",
        "  outlier_mask = huber.outliers_\n",
        "  inlier_mask = np.logical_not(outlier_mask)\n",
        "  (m,b,me,be) = fitLine(x[inlier_mask], y[inlier_mask])\n",
        "  xi = x[inlier_mask]\n",
        "  yi = y[inlier_mask]\n",
        "  xo = x[outlier_mask]\n",
        "  yo = y[outlier_mask]\n",
        "  return (m,b,me,be,xi,yi,xo,yo)\n",
        "\n",
        "def smoothRateVsTime(t,y,timescale=100):\n",
        "  sos = signal.bessel(4, 1/timescale, 'low', norm='phase', fs=np.median(np.gradient(t)), output='sos')\n",
        "  ysm = signal.sosfiltfilt(sos, y)\n",
        "  tsm = signal.sosfiltfilt(sos,t)\n",
        "  dydt = (np.gradient(ysm)/np.gradient(tsm))\n",
        "  return dydt\n",
        "\n",
        "initialBlockRun = True\n",
        "\n"
      ],
      "execution_count": 22,
      "outputs": []
    },
    {
      "cell_type": "markdown",
      "metadata": {
        "id": "uH4ESYBaNvQv"
      },
      "source": [
        "## run this block once \n",
        "This loads the class data and the long data set from the pendulum in the machine shop"
      ]
    },
    {
      "cell_type": "code",
      "metadata": {
        "id": "YMrOksDbefDn"
      },
      "source": [
        "try:\n",
        "  if not(initialBlockRun):\n",
        "    raise\n",
        "except:\n",
        "  print (\"you need to run the code block above first!\")\n",
        "else:  \n",
        "  experiments = []\n",
        "  longexperiments = []\n",
        "  !git clone https://github.com/NYUExperimentalPhysics1-2021/lab6-shared-data-whole-class data #change to your github user name - do not erase the \"data\" afterwards\n",
        "  startdir = '/content/data'\n",
        "  !git clone https://github.com/NYUExperimentalPhysics1-2021/LongFoucaultPrecessions longdata\n",
        "  longdir = '/content/longdata'\n",
        "  updateExperiments(startdir, experiments)\n",
        "  updateExperiments(longdir, longexperiments)"
      ],
      "execution_count": null,
      "outputs": []
    },
    {
      "cell_type": "markdown",
      "source": [
        "##Plot individual experiments and find avg. rates\n",
        "`(m,b,m_e,b_e) = fitLine(x,y)` fits a line to y = mx + b, me, be are derived errors\n",
        "\n",
        "1. create empty arrays for rate and rate_eb\n",
        "1. iterate over all experiments\n",
        "  1. x is e.t minus the start time\n",
        "  1. y is the unwrapped angle (note that the angle is in degrees) - also, try unwrapping by 180 instead of 360 degrees\n",
        "  1. fit x,y to a line\n",
        "  1. plot x,y as dots an the fit as a line\n",
        "  1. title with the slope in deg/hr\n",
        "  1. append m$*$3600 to rate and me$*$3600 to rate_eb\n",
        "\n",
        "1. convert m and me to numpy arrays\n"
      ],
      "metadata": {
        "id": "mlZxvmyL4A4p"
      }
    },
    {
      "cell_type": "code",
      "metadata": {
        "id": "b_m1J_ny6eED"
      },
      "source": [
        "## your code here"
      ],
      "execution_count": null,
      "outputs": []
    },
    {
      "cell_type": "markdown",
      "source": [
        "One of the data sets has bad values that create some huge jumps - either truncate the data set to get a clean continuous run (then rerun the fits) or remove the fit results from rate and rate_eb"
      ],
      "metadata": {
        "id": "GYaVoUkN6Tn5"
      }
    },
    {
      "cell_type": "code",
      "source": [
        "## your code here"
      ],
      "metadata": {
        "id": "m6FIJGk97i_7"
      },
      "execution_count": null,
      "outputs": []
    },
    {
      "cell_type": "markdown",
      "source": [
        "1. Print the mean of all the rates\n",
        "1. Print the mean of all the rates, weighted by their fitting errors. $w_i = \\frac{1}{error_i} / \\sum_i \\frac{1}{error_i}$, $<r> = \\sum_i w_i r_i$\n",
        "1. Some of the plots of angle vs time show that the bob stops precessing or even reverses direction. It looks like most of these rotate with |rate| < 3 deg/hr. Print the average with just the rates whose absolute value > 3 deg/hr (|rates| > 3 deg/hr).\n",
        "1. Make a plot of the rates of precession in sorted order. X axis is 0 through length(rate) - 1. Y axis is rate. Add a horizontal line for the predicted rate and the mean rate. \n",
        "1. Make a histogram of the rates of precession"
      ],
      "metadata": {
        "id": "4vHJAwFU8omq"
      }
    },
    {
      "cell_type": "code",
      "metadata": {
        "id": "pMao4awuCX9j"
      },
      "source": [
        "## your code here\n"
      ],
      "execution_count": null,
      "outputs": []
    },
    {
      "cell_type": "markdown",
      "source": [
        "longexperiments has multiple files spanning a single experiment \n",
        "\n",
        "combine them by\n",
        "\n",
        "1. make one array t that concatenates all the times (stored in longexperiments[0].t etc.) - use list comprehension\n",
        "1. subtract t[0] from the t array \n",
        "1. make one array theta that concatenates all the angles (stored in longexperiments[0].theta etc.)\n",
        "\n",
        "then\n",
        "\n",
        "1. plot theta vs. time (in hours)\n",
        "1. notice that the pendulum took some time to `settle in' - remove the first two hours from t and theta\n",
        "1. plot theta vs. time (in hours) again\n",
        "1. fit theta vs. time to a line, title the plot with the slope and overlay a fit line on the data\n",
        "1. Use `rate = smoothRateVsTime(t,y,timescale=100)` to calculate the rate of precession vs. time, with noise smoothed over. `timescale` is the smoothing time in seconds (if t is in seconds). \n",
        "1. Plot rate (in deg/hr) vs. time (in hours)\n",
        "\n"
      ],
      "metadata": {
        "id": "z0ziZHiVLHQB"
      }
    },
    {
      "cell_type": "code",
      "metadata": {
        "id": "BpAVtfZWoGJ_"
      },
      "source": [
        "## your coe here"
      ],
      "execution_count": null,
      "outputs": []
    },
    {
      "cell_type": "markdown",
      "source": [
        "1. on another graph, plot the difference between theta and the best fit line vs. time- this shows far ahead or behind the pendulum is of its average motion\n",
        "1. on a new graph, plot the difference between theta and the best fit line vs. time mod 24 hours - is there a daily pattern\n",
        "1. on a new graph, plot the difference between theta and the best fit line vs. theta mod 180 degrees - is there a spatial pattern\n",
        "\n",
        "1. on another graph, plot the rate vs. time mod 24 hours - is there a daily pattern\n",
        "1. on a new graph, plot the rate vs. theta mod 180 degrees - is there a spatial pattern"
      ],
      "metadata": {
        "id": "H-UUy84EUA2c"
      }
    },
    {
      "cell_type": "markdown",
      "source": [
        "want to calculate the mean rate as a function of time of day? mean rate as a function of angle mod 180? use `binned_statistic'\n",
        "`bsr = scipy.stats.binned_statistic(x, values, statistic='mean', bins=10, range=None)`\n",
        "\n",
        "I wrote an example calculating rate vs. time mod 24 hours \n",
        "You write one for rate vs. angle mod 180 in 5 degree bins\n"
      ],
      "metadata": {
        "id": "Dac8ujKqQP3f"
      }
    },
    {
      "cell_type": "code",
      "source": [
        "bsr = scipy.stats.binned_statistic(np.mod(t/3600, 24), rate, bins = np.arange(0,24.1,1))\n",
        "plt.scatter(np.mod(t/3600,24), rate, 1, marker = '.')\n",
        "plt.plot(np.arange(0.5,24,1), bsr.statistic, 'm-',linewidth=4)\n",
        "\n",
        "## your code here"
      ],
      "metadata": {
        "id": "C44c0yVaNpNv"
      },
      "execution_count": null,
      "outputs": []
    }
  ]
}